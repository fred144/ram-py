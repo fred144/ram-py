{
 "cells": [
  {
   "cell_type": "markdown",
   "metadata": {},
   "source": [
    "# Stellar birth epoch\n",
    "\n",
    "## initialization & reading data\n"
   ]
  },
  {
   "cell_type": "code",
   "execution_count": 1,
   "metadata": {},
   "outputs": [
    {
     "name": "stdout",
     "output_type": "stream",
     "text": [
      "*** WARNING (KS MODIFIED) ****   particle_families is modified in yt/frontends/ramses/definitions.py\n"
     ]
    }
   ],
   "source": [
    "# initialization\n",
    "import numpy as np\n",
    "import sys\n",
    "import os\n",
    "import matplotlib\n",
    "import yt\n",
    "\n",
    "# directory/file\n",
    "datadir = os.path.expanduser(\n",
    "    \"~/Desktop/Fred_project/cluster_evolution/fs07/\"\n",
    ")  # data directory\n",
    "\n",
    "step = 157\n",
    "infofile = \"output_%05d/info_%05d.txt\" % (int(step), int(step))\n",
    "infofile_fp = os.path.abspath(datadir + \"/\" + infofile)  # full path"
   ]
  },
  {
   "cell_type": "code",
   "execution_count": 38,
   "metadata": {},
   "outputs": [
    {
     "name": "stderr",
     "output_type": "stream",
     "text": [
      "yt : [INFO     ] 2021-07-09 11:39:50,264 Parameters: current_time              = 4.528835354476646\n",
      "yt : [INFO     ] 2021-07-09 11:39:50,265 Parameters: domain_dimensions         = [32 32 32]\n",
      "yt : [INFO     ] 2021-07-09 11:39:50,265 Parameters: domain_left_edge          = [0. 0. 0.]\n",
      "yt : [INFO     ] 2021-07-09 11:39:50,266 Parameters: domain_right_edge         = [1. 1. 1.]\n",
      "yt : [INFO     ] 2021-07-09 11:39:50,266 Parameters: cosmological_simulation   = 1\n",
      "yt : [INFO     ] 2021-07-09 11:39:50,267 Parameters: current_redshift          = 11.501816783238484\n",
      "yt : [INFO     ] 2021-07-09 11:39:50,267 Parameters: omega_lambda              = 0.730000019073486\n",
      "yt : [INFO     ] 2021-07-09 11:39:50,267 Parameters: omega_matter              = 0.270000010728836\n",
      "yt : [INFO     ] 2021-07-09 11:39:50,268 Parameters: omega_radiation           = 0.0\n",
      "yt : [INFO     ] 2021-07-09 11:39:50,268 Parameters: hubble_constant           = 0.7\n",
      "yt : [WARNING  ] 2021-07-09 11:39:50,272 Detected 1 extra gravity fields.\n",
      "yt : [WARNING  ] 2021-07-09 11:39:53,119 This output has no cooling fields\n",
      "yt : [WARNING  ] 2021-07-09 11:39:53,804 The DM particle filter already exists. Overriding.\n",
      "yt : [WARNING  ] 2021-07-09 11:39:53,805 The star particle filter already exists. Overriding.\n",
      "yt : [WARNING  ] 2021-07-09 11:39:53,805 The POPIII particle filter already exists. Overriding.\n",
      "yt : [WARNING  ] 2021-07-09 11:39:53,805 The supernova particle filter already exists. Overriding.\n",
      "yt : [WARNING  ] 2021-07-09 11:39:53,806 The dead particle filter already exists. Overriding.\n",
      "yt : [WARNING  ] 2021-07-09 11:39:53,807 The BH particle filter already exists. Overriding.\n",
      "yt : [WARNING  ] 2021-07-09 11:39:53,808 The SFC particle filter already exists. Overriding.\n",
      "yt : [WARNING  ] 2021-07-09 11:39:53,808 The PSC particle filter already exists. Overriding.\n",
      "yt : [INFO     ] 2021-07-09 11:39:53,809 Adding particle_type: DM\n",
      "yt : [INFO     ] 2021-07-09 11:39:53,824 Adding particle_type: star\n",
      "yt : [INFO     ] 2021-07-09 11:39:53,839 Adding particle_type: POPIII\n",
      "yt : [INFO     ] 2021-07-09 11:39:53,853 Adding particle_type: supernova\n",
      "yt : [INFO     ] 2021-07-09 11:39:53,868 Adding particle_type: dead\n",
      "yt : [INFO     ] 2021-07-09 11:39:53,882 Adding particle_type: BH\n",
      "yt : [INFO     ] 2021-07-09 11:39:53,896 Adding particle_type: SFC\n",
      "yt : [INFO     ] 2021-07-09 11:39:53,911 Adding particle_type: PSC\n"
     ]
    },
    {
     "name": "stdout",
     "output_type": "stream",
     "text": [
      "fields:  ['BH', 'DM', 'POPIII', 'PSC', 'SFC', 'all', 'dead', 'deposit', 'gas', 'gravity', 'index', 'io', 'ramses', 'ramses-rt', 'rt', 'sink', 'star', 'supernova']\n"
     ]
    }
   ],
   "source": [
    "# read data\n",
    "FIELDS = [\n",
    "    \"Density\",\n",
    "    \"x-velocity\",\n",
    "    \"y-velocity\",\n",
    "    \"z-velocity\",\n",
    "    \"Pressure\",\n",
    "    \"Metallicity\",\n",
    "    \"xHI\",\n",
    "    \"xHII\",\n",
    "    \"xHeII\",\n",
    "    \"xHeIII\",\n",
    "]\n",
    "EPF = [\n",
    "    (\"particle_family\", \"b\"),\n",
    "    (\"particle_tag\", \"b\"),\n",
    "    (\"particle_birth_epoch\", \"d\"),\n",
    "    (\"particle_metallicity\", \"d\"),\n",
    "]\n",
    "\n",
    "# loading data\n",
    "ds = yt.load(infofile_fp, fields=FIELDS, extra_particle_fields=EPF)\n",
    "\n",
    "\n",
    "print(\"fields: \", dir(ds.fields))"
   ]
  },
  {
   "cell_type": "markdown",
   "metadata": {},
   "source": [
    "## get stellar birth epoch"
   ]
  },
  {
   "cell_type": "code",
   "execution_count": 37,
   "metadata": {},
   "outputs": [
    {
     "name": "stdout",
     "output_type": "stream",
     "text": [
      "be_star [code unit]:  [-0.9669934 -0.9669934 -0.9669934 ... -0.9661183 -0.9661183 -0.9661183] dimensionless\n",
      "be_star unique and sorted [code unit]:  [-0.96815776 -0.9669934  -0.9661183  -0.96536256 -0.96533701 -0.96527014\n",
      " -0.96367227]\n",
      "be_star from present time [Myr]:  [-13523.97264971 -13507.70806263 -13495.48396636 -13484.92712794\n",
      " -13484.57023742 -13483.6361643  -13461.3158952 ]\n",
      "be_star from first Pop II star formation [Myr]:  [ 0.         16.26458708 28.48868335 39.04552177 39.40241228 40.3364854\n",
      " 62.65675451]\n"
     ]
    }
   ],
   "source": [
    "# stellar birth epoch\n",
    "ad = ds.all_data()\n",
    "be_star = ad[\"star\", \"particle_birth_epoch\"]  # birth_epoch of star (Pop II stars)\n",
    "\n",
    "# constants used for unit conversion\n",
    "hubble = ds.hubble_constant  # hubble = H0/100\n",
    "cgs_yr = 3.1556926e7  # 1yr (in s)\n",
    "cgs_pc = 3.08568e18  # pc (in cm)\n",
    "H0 = ds.hubble_constant * 100  # hubble parameter (km/s/Mpc)\n",
    "H0_invsec = H0 * 1e5 / (1e6 * cgs_pc)  # hubble constant h [km/s Mpc-1] -> [1/sec]\n",
    "H0inv_yr = 1 / H0_invsec / cgs_yr  # 1/H0 [yr]\n",
    "\n",
    "\n",
    "# process data (remove duplicated data and sort)\n",
    "be_star_processed = np.array(sorted(list(set(be_star.to_ndarray()))))\n",
    "\n",
    "print(\"be_star [code unit]: \", be_star)\n",
    "print(\"be_star unique and sorted [code unit]: \", be_star_processed)\n",
    "\n",
    "be_star_Myr = be_star_processed * H0inv_yr / 1e6\n",
    "print(\"be_star from present time [Myr]: \", be_star_Myr)  # t=0 is the present time\n",
    "\n",
    "print(\n",
    "    \"be_star from first Pop II star formation [Myr]: \", be_star_Myr - be_star_Myr.min()\n",
    ")  # t=0 is the time of first Pop II star formation"
   ]
  },
  {
   "cell_type": "code",
   "execution_count": null,
   "metadata": {},
   "outputs": [],
   "source": []
  }
 ],
 "metadata": {
  "kernelspec": {
   "display_name": "Python 3 (ipykernel)",
   "language": "python",
   "name": "python3"
  },
  "language_info": {
   "codemirror_mode": {
    "name": "ipython",
    "version": 3
   },
   "file_extension": ".py",
   "mimetype": "text/x-python",
   "name": "python",
   "nbconvert_exporter": "python",
   "pygments_lexer": "ipython3",
   "version": "3.8.10"
  },
  "toc": {
   "colors": {
    "hover_highlight": "#DAA520",
    "navigate_num": "#000000",
    "navigate_text": "#333333",
    "running_highlight": "#FF0000",
    "selected_highlight": "#FFD700",
    "sidebar_border": "#EEEEEE",
    "wrapper_background": "#FFFFFF"
   },
   "moveMenuLeft": true,
   "nav_menu": {
    "height": "30px",
    "width": "252px"
   },
   "navigate_menu": true,
   "number_sections": true,
   "sideBar": true,
   "threshold": 4,
   "toc_cell": false,
   "toc_section_display": "block",
   "toc_window_display": false,
   "widenNotebook": false
  }
 },
 "nbformat": 4,
 "nbformat_minor": 4
}
