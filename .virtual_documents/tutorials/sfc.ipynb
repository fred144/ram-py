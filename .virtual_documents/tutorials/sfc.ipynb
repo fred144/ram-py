


# initialization
import numpy as np
import sys
import os
import matplotlib
import yt

# directory/file
datadir = os.path.expanduser(
    "~/test_data/haloD_varSFE_Lfid_Salp_ks20231024"
)  # data directory

step = 217
infofile = "output_%05d/info_%05d.txt" % (int(step), int(step))
infofile_fp = os.path.abspath(datadir + "/" + infofile)  # full path
logsfc = np.loadtxt(os.path.join(datadir, "logSFC"))


# read data
FIELDS = [
    "Density",
    "x-velocity",
    "y-velocity",
    "z-velocity",
    "Pressure",
    "Metallicity",
    "xHI",
    "xHII",
    "xHeII",
    "xHeIII",
]
EPF = [
    ("particle_family", "b"),
    ("particle_tag", "b"),
    ("particle_birth_epoch", "d"),
    ("particle_metallicity", "d"),
]
print(infofile_fp)
# loading data
ds = yt.load(infofile_fp, fields=FIELDS, extra_particle_fields=EPF)
ad = ds.all_data()



ad["SFC","particle_position_x"]


ad.keys()


centeroid = np.array([np.mean(ad["star", "particle_position_x"]), 
                      np.mean(ad["star", "particle_position_y"]), 
                      np.mean(ad["star", "particle_position_z"])])
print(centeroid)


# plot
width = (300, "pc")  # plot width

p = yt.SlicePlot(ds, "z", "density", width=width, center=centeroid)
p.annotate_particles(
    width=width, ptype="star", p_size=20.0, marker=".", col="r"
)  # Pop II stars
# p.annotate_particles(
#     width=width, ptype="SFC", p_size=100.0, marker="x", col="b"
# )  # star forming clouds (test particles)
# p.annotate_particles(
#     width=width, ptype="PSC", p_size=100.0, marker="x", col="g"
# )  # passive stellar clusters (test particles)
p.annotate_timestamp(redshift=True, redshift_format='z = {redshift:.6f}')

p.set_figure_size(5)
p.show()


_, _, redshift, _, rsfc, msfc, nstar, mstar, nh, Zmetal, posx, poxy, posz = logsfc.T


print(redshift)


new_cluster = np.argmin(np.abs(redshift - 13.699179))


redshift[new_cluster]


print("mass of cloud [msun]",msfc[new_cluster])


print("mass of star cluster [msun]",mstar[new_cluster])


mstar[new_cluster]/msfc[new_cluster]


print("density of cloud [cm ^ -3]", nh[new_cluster])


print("radius of cloud pc", rsfc[new_cluster])
